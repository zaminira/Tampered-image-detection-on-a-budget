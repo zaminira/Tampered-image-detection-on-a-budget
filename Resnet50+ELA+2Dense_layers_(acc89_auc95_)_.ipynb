{
  "nbformat": 4,
  "nbformat_minor": 0,
  "metadata": {
    "colab": {
      "provenance": [],
      "authorship_tag": "ABX9TyPvYCTr3sO2uZU5yu9a/zUv",
      "include_colab_link": true
    },
    "kernelspec": {
      "name": "python3",
      "display_name": "Python 3"
    },
    "accelerator": "GPU"
  },
  "cells": [
    {
      "cell_type": "markdown",
      "metadata": {
        "id": "view-in-github",
        "colab_type": "text"
      },
      "source": [
        "<a href=\"https://colab.research.google.com/github/zaminira/Tampered-image-detection-on-a-budget/blob/main/Resnet50%2BELA%2B2Dense_layers_(acc89_auc95_)_.ipynb\" target=\"_parent\"><img src=\"https://colab.research.google.com/assets/colab-badge.svg\" alt=\"Open In Colab\"/></a>"
      ]
    },
    {
      "cell_type": "markdown",
      "metadata": {
        "id": "IOj8GMFJ3nIx"
      },
      "source": [
        "# Description\n",
        "####CASIAv2 dataset - https://github.com/namtpham/casia2groundtruth\n",
        "####The images used here have been filter using error level analysis\n",
        "####Authentic = 7490 Tampered = 5123"
      ]
    },
    {
      "cell_type": "code",
      "metadata": {
        "id": "Ip_mCgNhr1FV"
      },
      "source": [
        "import os\n",
        "import numpy as np\n",
        "import tensorflow as tf\n",
        "import pandas as pd\n",
        "import datetime\n",
        "import tensorflow as tf\n",
        "from tensorflow.keras import layers\n",
        "from keras.preprocessing.image import ImageDataGenerator"
      ],
      "execution_count": null,
      "outputs": []
    },
    {
      "cell_type": "code",
      "metadata": {
        "colab": {
          "base_uri": "https://localhost:8080/"
        },
        "id": "nTDtk5fEpiRO",
        "outputId": "5919d7c6-ac43-40dc-ed02-d465f387e8f8"
      },
      "source": [
        "from google.colab import drive\n",
        "drive.mount('/content/drive')"
      ],
      "execution_count": null,
      "outputs": [
        {
          "output_type": "stream",
          "text": [
            "Mounted at /content/drive\n"
          ],
          "name": "stdout"
        }
      ]
    },
    {
      "cell_type": "markdown",
      "metadata": {
        "id": "jDzLh7hL4Dda"
      },
      "source": [
        "Copying the data to the google colab instance.\n",
        "The zip folder includes train and test forlders containing real and tampered images"
      ]
    },
    {
      "cell_type": "code",
      "metadata": {
        "id": "V7_5raBfpiND"
      },
      "source": [
        "zip_file = 'CASIA_2.0_ela.zip'\n",
        "zip_path = os.path.join('.','drive','MyDrive', 'ECS289_Project', zip_file)\n",
        "data_dir = os.path.join('.','data')"
      ],
      "execution_count": null,
      "outputs": []
    },
    {
      "cell_type": "code",
      "metadata": {
        "id": "I2m9NBjBwjEL"
      },
      "source": [
        "#!rm -rf $data_dir\n",
        "!cp -u $zip_path .\n",
        "!unzip -u -o -d $data_dir $zip_file"
      ],
      "execution_count": null,
      "outputs": []
    },
    {
      "cell_type": "markdown",
      "metadata": {
        "id": "_0-MUWUT9ayY"
      },
      "source": [
        "# Data Preprocessing\n",
        "#### In this step we use the Keras preprocessing , which is needed for the pretrained Resnet model\n",
        "\n"
      ]
    },
    {
      "cell_type": "code",
      "metadata": {
        "id": "yNks8eInnZ84"
      },
      "source": [
        "#Hyperparameters and global variables\n",
        "random_seed = 42\n",
        "global_batch_size = 32\n",
        "global_image_size = (128, 128)\n",
        "lr=1e-6"
      ],
      "execution_count": null,
      "outputs": []
    },
    {
      "cell_type": "code",
      "metadata": {
        "id": "GybwfpYuGaBU",
        "colab": {
          "base_uri": "https://localhost:8080/"
        },
        "outputId": "4b522648-6a88-4604-8ff9-eaa122fb6c1d"
      },
      "source": [
        "# The data used is binary and in 'rgb' format.\n",
        "train_data = tf.keras.preprocessing.image_dataset_from_directory(\n",
        "    os.path.join(data_dir,'processed','train'),\n",
        "    labels=\"inferred\",\n",
        "    label_mode=\"binary\",\n",
        "    class_names=None,\n",
        "    color_mode=\"rgb\",\n",
        "    batch_size=global_batch_size,\n",
        "    image_size=global_image_size,\n",
        "    shuffle=True,\n",
        "    seed=random_seed,\n",
        "    validation_split=None,\n",
        "    subset=None,\n",
        "    interpolation=\"bilinear\",\n",
        "    follow_links=False,\n",
        ")"
      ],
      "execution_count": null,
      "outputs": [
        {
          "output_type": "stream",
          "text": [
            "Found 8791 files belonging to 2 classes.\n"
          ],
          "name": "stdout"
        }
      ]
    },
    {
      "cell_type": "code",
      "metadata": {
        "colab": {
          "base_uri": "https://localhost:8080/"
        },
        "id": "W2bwvFJEn9iO",
        "outputId": "7faf957f-29dc-42ba-db4d-53647041d835"
      },
      "source": [
        "val_data = tf.keras.preprocessing.image_dataset_from_directory(\n",
        "    os.path.join(data_dir,'processed','test'),\n",
        "    labels=\"inferred\",\n",
        "    label_mode=\"binary\",\n",
        "    class_names=None,\n",
        "    color_mode=\"rgb\",\n",
        "    batch_size=global_batch_size,\n",
        "    image_size=global_image_size,\n",
        "    shuffle=True,\n",
        "    seed=random_seed,\n",
        "    validation_split=0.9,\n",
        "    subset='training',\n",
        "    interpolation=\"bilinear\",\n",
        "    follow_links=False,\n",
        ")"
      ],
      "execution_count": null,
      "outputs": [
        {
          "output_type": "stream",
          "text": [
            "Found 3769 files belonging to 2 classes.\n",
            "Using 377 files for training.\n"
          ],
          "name": "stdout"
        }
      ]
    },
    {
      "cell_type": "code",
      "metadata": {
        "colab": {
          "base_uri": "https://localhost:8080/"
        },
        "id": "4ltVFg6G6lC2",
        "outputId": "95824deb-8532-4c80-e8a5-a230d340fcf3"
      },
      "source": [
        "test_data = tf.keras.preprocessing.image_dataset_from_directory(\n",
        "    os.path.join(data_dir,'processed','test'),\n",
        "    labels=\"inferred\",\n",
        "    label_mode=\"binary\",\n",
        "    class_names=None,\n",
        "    color_mode=\"rgb\",\n",
        "    batch_size=global_batch_size,\n",
        "    image_size=global_image_size,\n",
        "    shuffle=True,\n",
        "    seed=random_seed,\n",
        "    validation_split=0.1,\n",
        "    subset='validation',\n",
        "    interpolation=\"bilinear\",\n",
        "    follow_links=False,\n",
        ")"
      ],
      "execution_count": null,
      "outputs": [
        {
          "output_type": "stream",
          "text": [
            "Found 3769 files belonging to 2 classes.\n",
            "Using 376 files for validation.\n"
          ],
          "name": "stdout"
        }
      ]
    },
    {
      "cell_type": "code",
      "metadata": {
        "id": "RTeMCNw89TD7"
      },
      "source": [],
      "execution_count": null,
      "outputs": []
    },
    {
      "cell_type": "markdown",
      "metadata": {
        "id": "9Xqh9fDD9TjC"
      },
      "source": [
        "# Model\n",
        "The model used is a pretrained Resnet50. The weights are from 'imagenet'\n"
      ]
    },
    {
      "cell_type": "code",
      "metadata": {
        "id": "v1wJR-WOn9sZ"
      },
      "source": [
        "base_model=tf.keras.applications.ResNet50(\n",
        "    include_top=False,\n",
        "    weights=\"imagenet\",\n",
        "    input_tensor=None,\n",
        "    input_shape=(128,128,3),\n",
        "    pooling='max'\n",
        ")\n",
        "\n",
        "interim1 = tf.keras.layers.Dense(100, activation='relu')(base_model.output)\n",
        "#interim2 = tf.keras.layers.Dense(20, activation='relu')(interim1)\n",
        "predictions = tf.keras.layers.Dense(1, activation='sigmoid')(interim1)\n",
        "#predictions = tf.keras.layers.Dense(1, activation='sigmoid')(base_model.output)\n",
        "model = tf.keras.Model(inputs=base_model.input, outputs=predictions)\n",
        "\n"
      ],
      "execution_count": null,
      "outputs": []
    },
    {
      "cell_type": "code",
      "metadata": {
        "id": "sBYwHeeOXEjb"
      },
      "source": [
        "model.summary()"
      ],
      "execution_count": null,
      "outputs": []
    },
    {
      "cell_type": "code",
      "metadata": {
        "colab": {
          "base_uri": "https://localhost:8080/"
        },
        "id": "I2CXgPpkn9yI",
        "outputId": "0361b0ad-62b7-49a0-b512-764104b80d16"
      },
      "source": [
        "len(model.layers)"
      ],
      "execution_count": null,
      "outputs": [
        {
          "output_type": "execute_result",
          "data": {
            "text/plain": [
              "178"
            ]
          },
          "metadata": {
            "tags": []
          },
          "execution_count": 47
        }
      ]
    },
    {
      "cell_type": "code",
      "metadata": {
        "id": "WuIu1rw8n9vu"
      },
      "source": [
        "# 1st run : Freezing all the layers except the last layer\n",
        "for layer in base_model.layers[:176]:\n",
        "   layer.trainable = False\n",
        "for layer in base_model.layers[176:]:\n",
        "   layer.trainable = True\n",
        "#compiling the model using adam as the optimization technique with default learning rate\n",
        "model.compile(optimizer='adam', loss='binary_crossentropy', metrics=['accuracy', 'AUC'])"
      ],
      "execution_count": null,
      "outputs": []
    },
    {
      "cell_type": "code",
      "metadata": {
        "colab": {
          "base_uri": "https://localhost:8080/"
        },
        "id": "twND2G-An9qH",
        "outputId": "f7e2e196-9c2d-48a2-a2ee-edb5f3e7bd2f"
      },
      "source": [
        "history = model.fit(train_data, epochs=5, validation_data=val_data)"
      ],
      "execution_count": null,
      "outputs": [
        {
          "output_type": "stream",
          "text": [
            "Epoch 1/5\n",
            "275/275 [==============================] - 22s 78ms/step - loss: 0.3820 - accuracy: 0.8417 - auc: 0.9132 - val_loss: 0.3062 - val_accuracy: 0.8674 - val_auc: 0.9344\n",
            "Epoch 2/5\n",
            "275/275 [==============================] - 21s 75ms/step - loss: 0.2770 - accuracy: 0.8812 - auc: 0.9482 - val_loss: 0.3003 - val_accuracy: 0.8700 - val_auc: 0.9326\n",
            "Epoch 3/5\n",
            "275/275 [==============================] - 21s 76ms/step - loss: 0.2403 - accuracy: 0.8984 - auc: 0.9612 - val_loss: 0.3143 - val_accuracy: 0.8647 - val_auc: 0.9352\n",
            "Epoch 4/5\n",
            "275/275 [==============================] - 21s 75ms/step - loss: 0.2041 - accuracy: 0.9124 - auc: 0.9721 - val_loss: 0.3307 - val_accuracy: 0.8621 - val_auc: 0.9379\n",
            "Epoch 5/5\n",
            "275/275 [==============================] - 21s 75ms/step - loss: 0.1889 - accuracy: 0.9216 - auc: 0.9765 - val_loss: 0.3423 - val_accuracy: 0.8541 - val_auc: 0.9301\n"
          ],
          "name": "stdout"
        }
      ]
    },
    {
      "cell_type": "code",
      "metadata": {
        "id": "T3RV9uD0wlpp"
      },
      "source": [
        "model.save_weights(\"weight_file.h5\")"
      ],
      "execution_count": null,
      "outputs": []
    },
    {
      "cell_type": "code",
      "metadata": {
        "id": "3QBWAjMJstKj"
      },
      "source": [
        "# adding regularization\n",
        "#regularizer = tf.keras.regularizers.l2(0.01)\n",
        "\n",
        "#for layer in base_model.layers:\n",
        " #   for attr in ['kernel_regularizer']:\n",
        "  #      if hasattr(layer, attr):\n",
        "   #       setattr(layer, attr, regularizer)"
      ],
      "execution_count": null,
      "outputs": []
    },
    {
      "cell_type": "code",
      "metadata": {
        "id": "2dccqbfds5O5"
      },
      "source": [
        "#model_json=model.to_json()\n",
        "#model = tf.keras.models.model_from_json(model_json)"
      ],
      "execution_count": null,
      "outputs": []
    },
    {
      "cell_type": "code",
      "metadata": {
        "id": "WO1lcXP9s5S-"
      },
      "source": [
        "#model.losses"
      ],
      "execution_count": null,
      "outputs": []
    },
    {
      "cell_type": "code",
      "metadata": {
        "id": "bpxTW96zwl3l"
      },
      "source": [
        "# 2nd part of the model , trainign the last 5 layers\n",
        "for layer in base_model.layers[:150]:\n",
        "   layer.trainable = False\n",
        "for layer in base_model.layers[150:]:\n",
        "   layer.trainable = True\n",
        "#compiling the model with a new learning rate to avoid over fitting\n",
        "opt = tf.keras.optimizers.Adam(learning_rate=lr)\n",
        "model.compile(optimizer=opt, loss='binary_crossentropy', metrics=['accuracy', 'AUC'])"
      ],
      "execution_count": null,
      "outputs": []
    },
    {
      "cell_type": "code",
      "metadata": {
        "id": "Me6FB7KIYXxA"
      },
      "source": [
        "model.summary()"
      ],
      "execution_count": null,
      "outputs": []
    },
    {
      "cell_type": "code",
      "metadata": {
        "colab": {
          "base_uri": "https://localhost:8080/"
        },
        "id": "Dpnc_o9DqDFQ",
        "outputId": "49013e75-7113-475d-fc55-fa391401fa01"
      },
      "source": [
        "history = model.fit(train_data, epochs=5, validation_data=val_data)"
      ],
      "execution_count": null,
      "outputs": [
        {
          "output_type": "stream",
          "text": [
            "Epoch 1/5\n",
            "275/275 [==============================] - 24s 88ms/step - loss: 0.3650 - accuracy: 0.8337 - auc: 0.9204 - val_loss: 0.4100 - val_accuracy: 0.8170 - val_auc: 0.9092\n",
            "Epoch 2/5\n",
            "275/275 [==============================] - 23s 85ms/step - loss: 0.3127 - accuracy: 0.8582 - auc: 0.9391 - val_loss: 0.3927 - val_accuracy: 0.8382 - val_auc: 0.9164\n",
            "Epoch 3/5\n",
            "275/275 [==============================] - 24s 86ms/step - loss: 0.2868 - accuracy: 0.8684 - auc: 0.9477 - val_loss: 0.3799 - val_accuracy: 0.8408 - val_auc: 0.9216\n",
            "Epoch 4/5\n",
            "275/275 [==============================] - 23s 84ms/step - loss: 0.2633 - accuracy: 0.8814 - auc: 0.9551 - val_loss: 0.3722 - val_accuracy: 0.8488 - val_auc: 0.9241\n",
            "Epoch 5/5\n",
            "275/275 [==============================] - 24s 86ms/step - loss: 0.2368 - accuracy: 0.8919 - auc: 0.9633 - val_loss: 0.3675 - val_accuracy: 0.8621 - val_auc: 0.9260\n"
          ],
          "name": "stdout"
        }
      ]
    },
    {
      "cell_type": "code",
      "metadata": {
        "id": "E3kzvqQ7pbvL"
      },
      "source": [
        "model.save_weights(\"weight_file.h5\")"
      ],
      "execution_count": null,
      "outputs": []
    },
    {
      "cell_type": "code",
      "metadata": {
        "colab": {
          "base_uri": "https://localhost:8080/"
        },
        "id": "Ku04cY1Ppb87",
        "outputId": "e167875c-639b-42da-aeab-f9cb97f291da"
      },
      "source": [
        "history = model.fit(train_data, epochs=10, validation_data=val_data)"
      ],
      "execution_count": null,
      "outputs": [
        {
          "output_type": "stream",
          "text": [
            "Epoch 1/10\n",
            "275/275 [==============================] - 24s 88ms/step - loss: 0.2201 - accuracy: 0.9007 - auc: 0.9683 - val_loss: 0.3642 - val_accuracy: 0.8621 - val_auc: 0.9274\n",
            "Epoch 2/10\n",
            "275/275 [==============================] - 24s 87ms/step - loss: 0.2118 - accuracy: 0.9056 - auc: 0.9706 - val_loss: 0.3620 - val_accuracy: 0.8594 - val_auc: 0.9281\n",
            "Epoch 3/10\n",
            "275/275 [==============================] - 24s 89ms/step - loss: 0.1964 - accuracy: 0.9129 - auc: 0.9748 - val_loss: 0.3600 - val_accuracy: 0.8568 - val_auc: 0.9284\n",
            "Epoch 4/10\n",
            "260/275 [===========================>..] - ETA: 1s - loss: 0.1853 - accuracy: 0.9192 - auc: 0.9779"
          ],
          "name": "stdout"
        }
      ]
    },
    {
      "cell_type": "code",
      "metadata": {
        "colab": {
          "base_uri": "https://localhost:8080/",
          "height": 265
        },
        "id": "I_VctNXfhMW1",
        "outputId": "10605371-5539-4703-960b-2fc34390f16c"
      },
      "source": [
        "from matplotlib import pyplot as plt\n",
        "fig, ax = plt.subplots(2,1)\n",
        "ax[0].plot(history.history['loss'], color='b', label=\"Training loss\")\n",
        "ax[0].plot(history.history['val_loss'], color='r', label=\"validation loss\",axes =ax[0])\n",
        "legend = ax[0].legend(loc='best', shadow=True)\n",
        "\n",
        "ax[1].plot(history.history['accuracy'], color='b', label=\"Training accuracy\")\n",
        "ax[1].plot(history.history['val_accuracy'], color='r',label=\"Validation accuracy\")\n",
        "legend = ax[1].legend(loc='best', shadow=True)"
      ],
      "execution_count": null,
      "outputs": [
        {
          "output_type": "display_data",
          "data": {
            "image/png": "[encoded data removed]",
            "text/plain": [
              "<Figure size 432x288 with 2 Axes>"
            ]
          },
          "metadata": {
            "tags": [],
            "needs_background": "light"
          }
        }
      ]
    },
    {
      "cell_type": "code",
      "metadata": {
        "id": "i_WgyQvyUWTR"
      },
      "source": [
        "import time"
      ],
      "execution_count": null,
      "outputs": []
    },
    {
      "cell_type": "code",
      "metadata": {
        "id": "5K_0_89QqDLD",
        "colab": {
          "base_uri": "https://localhost:8080/"
        },
        "outputId": "f9d949bc-d798-472b-bb30-12720f760634"
      },
      "source": [
        "#saving the .h5 file for the tensorflow lite\n",
        "t = time.time()\n",
        "export_path_keras = \"./{}.h5\".format(int(t))\n",
        "print(export_path_keras)\n",
        "\n",
        "model.save(export_path_keras)"
      ],
      "execution_count": null,
      "outputs": [
        {
          "output_type": "stream",
          "text": [
            "./1607367844.h5\n"
          ],
          "name": "stdout"
        }
      ]
    },
    {
      "cell_type": "code",
      "metadata": {
        "id": "06D5rnNvtwu-"
      },
      "source": [
        "def dataset2np(dataset):\n",
        "  X = []\n",
        "  Y = []\n",
        "  for image, label in dataset :\n",
        "      X += [image]\n",
        "      Y += [label]\n",
        "  return np.vstack(X), np.vstack(Y)"
      ],
      "execution_count": null,
      "outputs": []
    },
    {
      "cell_type": "code",
      "metadata": {
        "id": "Clr5azUTuG7n"
      },
      "source": [
        "X_train, Y_train = dataset2np(train_data)\n",
        "X_val, Y_val = dataset2np(val_data)\n",
        "X_test, Y_test = dataset2np(test_data)"
      ],
      "execution_count": null,
      "outputs": []
    },
    {
      "cell_type": "code",
      "metadata": {
        "id": "BuS-frsXqDPn"
      },
      "source": [
        "Y_pred = model.predict(X_test)"
      ],
      "execution_count": null,
      "outputs": []
    },
    {
      "cell_type": "code",
      "metadata": {
        "colab": {
          "base_uri": "https://localhost:8080/"
        },
        "id": "Rb9I6FprqDI4",
        "outputId": "c037ed08-9d58-41d4-eb31-6b272131d144"
      },
      "source": [
        "#evaluating model performance using acc and auc\n",
        "loss, acc, auc = model.evaluate(X_test, Y_test)"
      ],
      "execution_count": null,
      "outputs": [
        {
          "output_type": "stream",
          "text": [
            "12/12 [==============================] - 0s 33ms/step - loss: 0.3450 - accuracy: 0.8777 - auc: 0.9460\n"
          ],
          "name": "stdout"
        }
      ]
    }
  ]
}